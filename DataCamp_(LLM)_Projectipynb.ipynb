{
  "nbformat": 4,
  "nbformat_minor": 0,
  "metadata": {
    "colab": {
      "provenance": [],
      "authorship_tag": "ABX9TyODTza38FGGyDIDjEGp4hka",
      "include_colab_link": true
    },
    "kernelspec": {
      "name": "python3",
      "display_name": "Python 3"
    },
    "language_info": {
      "name": "python"
    }
  },
  "cells": [
    {
      "cell_type": "markdown",
      "metadata": {
        "id": "view-in-github",
        "colab_type": "text"
      },
      "source": [
        "<a href=\"https://colab.research.google.com/github/Khairul-islam99/Data_Camp_-LLM-_Projectipynb/blob/main/DataCamp_(LLM)_Projectipynb.ipynb\" target=\"_parent\"><img src=\"https://colab.research.google.com/assets/colab-badge.svg\" alt=\"Open In Colab\"/></a>"
      ]
    },
    {
      "cell_type": "markdown",
      "source": [
        "## **Summarizer**"
      ],
      "metadata": {
        "id": "n7lZ-pmCVX6v"
      }
    },
    {
      "cell_type": "code",
      "source": [
        "# Import the pipeline API from the Hugging Face transformers library\n",
        "from transformers import pipeline"
      ],
      "metadata": {
        "id": "TuBxZQgrVsSP"
      },
      "execution_count": 11,
      "outputs": []
    },
    {
      "cell_type": "code",
      "source": [
        "# Load the summarization pipeline using the 'facebook/bart-large-cnn' model\n",
        "# This model is pre-trained for summarization tasks and can generate concise summaries of long text.\n",
        "summarizer = pipeline(task = \"summarization\", model= \"facebook/bart-large-cnn\")"
      ],
      "metadata": {
        "colab": {
          "base_uri": "https://localhost:8080/"
        },
        "collapsed": true,
        "id": "2utHn96cWFTn",
        "outputId": "7b6bca47-54be-4875-8500-aa999a9dffe4"
      },
      "execution_count": 12,
      "outputs": [
        {
          "output_type": "stream",
          "name": "stderr",
          "text": [
            "/usr/local/lib/python3.11/dist-packages/huggingface_hub/utils/_auth.py:94: UserWarning: \n",
            "The secret `HF_TOKEN` does not exist in your Colab secrets.\n",
            "To authenticate with the Hugging Face Hub, create a token in your settings tab (https://huggingface.co/settings/tokens), set it as secret in your Google Colab and restart your session.\n",
            "You will be able to reuse this secret in all of your notebooks.\n",
            "Please note that authentication is recommended but still optional to access public models or datasets.\n",
            "  warnings.warn(\n",
            "Device set to use cpu\n"
          ]
        }
      ]
    },
    {
      "cell_type": "code",
      "execution_count": 13,
      "metadata": {
        "id": "aUHY1s8_XBVV",
        "outputId": "4a8fd463-3c46-4f88-a5fd-eb3c805906a6",
        "colab": {
          "base_uri": "https://localhost:8080/"
        }
      },
      "outputs": [
        {
          "output_type": "stream",
          "name": "stdout",
          "text": [
            "Walking amid Gion's Machiya wooden houses is a mesmerizing experience.\n",
            "The beautifully preserved structures exude an old-world charm, transporting\n",
            "visitors back in time and making them feel as though they have stepped into\n",
            "a living museum. The glow of lanterns lining the narrow streets adds to the\n",
            "enchanting ambiance, turning each stroll into a memorable journey through\n",
            "Japan's rich cultural history.\n"
          ]
        }
      ],
      "source": [
        "# Define the input text to be summarized\n",
        "text = (\n",
        "    \"Walking amid Gion's Machiya wooden houses is a mesmerizing experience.\\n\"\n",
        "    \"The beautifully preserved structures exude an old-world charm, transporting\\n\"\n",
        "    \"visitors back in time and making them feel as though they have stepped into\\n\"\n",
        "    \"a living museum. The glow of lanterns lining the narrow streets adds to the\\n\"\n",
        "    \"enchanting ambiance, turning each stroll into a memorable journey through\\n\"\n",
        "    \"Japan's rich cultural history.\"\n",
        ")\n",
        "print(text)"
      ]
    },
    {
      "cell_type": "code",
      "source": [
        "# Generate a summary of the input text\n",
        "# - max_length=50: Limits the summary to 50 tokens (words/subwords).\n",
        "# - clean_up_tokenization_spaces=True: Removes unnecessary spaces in the output.\n",
        "summary = summarizer(text, max_length=50,clean_up_tokenization_spaces =True)"
      ],
      "metadata": {
        "colab": {
          "base_uri": "https://localhost:8080/"
        },
        "id": "QX06P53xXVi3",
        "outputId": "286dc1e0-d2ca-4210-a09e-3357ceb40ebd"
      },
      "execution_count": 14,
      "outputs": [
        {
          "output_type": "stream",
          "name": "stderr",
          "text": [
            "Your min_length=56 must be inferior than your max_length=50.\n",
            "/usr/local/lib/python3.11/dist-packages/transformers/generation/utils.py:1427: UserWarning: Unfeasible length constraints: `min_length` (56) is larger than the maximum possible length (50). Generation will stop at the defined maximum length. You should decrease the minimum length and/or increase the maximum length.\n",
            "  warnings.warn(\n"
          ]
        }
      ]
    },
    {
      "cell_type": "code",
      "source": [
        "# Print the generated summary\n",
        "print(summary[0][\"summary_text\"])"
      ],
      "metadata": {
        "colab": {
          "base_uri": "https://localhost:8080/"
        },
        "id": "OD2bbuoRbBNn",
        "outputId": "6d0ba899-9216-4de7-9ca3-56137f09780a"
      },
      "execution_count": 15,
      "outputs": [
        {
          "output_type": "stream",
          "name": "stdout",
          "text": [
            "Walking amid Gion's Machiya wooden houses is a mesmerizing experience. The beautifully preserved structures exude an old-world charm. The glow of lanterns lining the narrow streets adds to the ambiance. It's a memorable\n"
          ]
        }
      ]
    },
    {
      "cell_type": "markdown",
      "source": [
        "## **Text generation**\n"
      ],
      "metadata": {
        "id": "i8ad7WDfbN_n"
      }
    },
    {
      "cell_type": "code",
      "source": [
        "# Load the text generation pipeline using the 'EleutherAI/gpt-neo-1.3B' model\n",
        "# This model is a large-scale language model capable of generating coherent and contextually relevant text\n",
        "generator = pipeline(task=\"text-generation\", model = \"EleutherAI/gpt-neo-1.3B\")"
      ],
      "metadata": {
        "colab": {
          "base_uri": "https://localhost:8080/"
        },
        "collapsed": true,
        "id": "UmcO27SJbX9O",
        "outputId": "62c75b6e-f038-427c-ccc0-b525ed3691c9"
      },
      "execution_count": 16,
      "outputs": [
        {
          "output_type": "stream",
          "name": "stderr",
          "text": [
            "Device set to use cpu\n"
          ]
        }
      ]
    },
    {
      "cell_type": "code",
      "source": [
        "# Define the prompt for text generation\n",
        "prompt = \"Dhaka Bangladesh is famus for\"\n",
        "# Generate text based on the prompt\n",
        "# - max_length=100: Limits the generated text to 100 tokens.\n",
        "# - pad_token_id=generator.tokenizer.eos_token_id: Ensures the model stops generating at the end-of-sequence token.\n",
        "# - temperature=0.8: Controls the randomness of the output (lower values make the output more deterministic).\n",
        "# - num_return_sequences=1: Generates only one sequence of text.\n",
        "# - top_k=50: Limits the sampling pool to the top 50 tokens at each step.\n",
        "# - top_p=0.95: Uses nucleus sampling to consider only the smallest set of tokens whose cumulative probability exceeds 0.95.\n",
        "output = generator(prompt, max_length=100, pad_token_id=generator.tokenizer.eos_token_id,temperature=0.8, num_return_sequences=1,top_k=50, top_p=0.95)"
      ],
      "metadata": {
        "colab": {
          "base_uri": "https://localhost:8080/"
        },
        "collapsed": true,
        "id": "uh-RF3aDc84H",
        "outputId": "0f5671ec-7595-4afa-fcf7-19ebefab5bf4"
      },
      "execution_count": 17,
      "outputs": [
        {
          "output_type": "stream",
          "name": "stderr",
          "text": [
            "Truncation was not explicitly activated but `max_length` is provided a specific value, please use `truncation=True` to explicitly truncate examples to max length. Defaulting to 'longest_first' truncation strategy. If you encode pairs of sequences (GLUE-style) with the tokenizer you can select this strategy more precisely by providing a specific strategy to `truncation`.\n"
          ]
        }
      ]
    },
    {
      "cell_type": "code",
      "source": [
        "# Print the generated text\n",
        "print(output[0][\"generated_text\"])"
      ],
      "metadata": {
        "colab": {
          "base_uri": "https://localhost:8080/"
        },
        "id": "2Az05RKceM3v",
        "outputId": "75538a29-2d5a-461f-e363-ef832a523894"
      },
      "execution_count": 18,
      "outputs": [
        {
          "output_type": "stream",
          "name": "stdout",
          "text": [
            "Dhaka Bangladesh is famus for the fact that it is the only place in the world where you can buy a pint of beer in a bottle. Yes you read that correctly a pint of beer in a bottle. Its not a case of drinking it yourself, but buying it at a place called Dhaka Beer.\n",
            "\n",
            "So we decided to check it out. We wanted to buy a bottle, and as a result we got to know about the best places to get a bottle of beer at\n"
          ]
        }
      ]
    },
    {
      "cell_type": "markdown",
      "source": [
        "##Language translation"
      ],
      "metadata": {
        "id": "oSwoMgT6wWk6"
      }
    },
    {
      "cell_type": "code",
      "source": [
        "# Install the googletrans library for language translation\n",
        "# Note: Use version 4.0.0-rc1 to avoid compatibility issues.\n",
        "!pip install googletrans==4.0.0-rc1"
      ],
      "metadata": {
        "colab": {
          "base_uri": "https://localhost:8080/"
        },
        "id": "xcz3lW2fz2LS",
        "outputId": "ad53592e-82e8-427b-f8e0-f5d0f2633c26"
      },
      "execution_count": 27,
      "outputs": [
        {
          "output_type": "stream",
          "name": "stdout",
          "text": [
            "Requirement already satisfied: googletrans==4.0.0-rc1 in /usr/local/lib/python3.11/dist-packages (4.0.0rc1)\n",
            "Requirement already satisfied: httpx==0.13.3 in /usr/local/lib/python3.11/dist-packages (from googletrans==4.0.0-rc1) (0.13.3)\n",
            "Requirement already satisfied: certifi in /usr/local/lib/python3.11/dist-packages (from httpx==0.13.3->googletrans==4.0.0-rc1) (2025.1.31)\n",
            "Requirement already satisfied: hstspreload in /usr/local/lib/python3.11/dist-packages (from httpx==0.13.3->googletrans==4.0.0-rc1) (2025.1.1)\n",
            "Requirement already satisfied: sniffio in /usr/local/lib/python3.11/dist-packages (from httpx==0.13.3->googletrans==4.0.0-rc1) (1.3.1)\n",
            "Requirement already satisfied: chardet==3.* in /usr/local/lib/python3.11/dist-packages (from httpx==0.13.3->googletrans==4.0.0-rc1) (3.0.4)\n",
            "Requirement already satisfied: idna==2.* in /usr/local/lib/python3.11/dist-packages (from httpx==0.13.3->googletrans==4.0.0-rc1) (2.10)\n",
            "Requirement already satisfied: rfc3986<2,>=1.3 in /usr/local/lib/python3.11/dist-packages (from httpx==0.13.3->googletrans==4.0.0-rc1) (1.5.0)\n",
            "Requirement already satisfied: httpcore==0.9.* in /usr/local/lib/python3.11/dist-packages (from httpx==0.13.3->googletrans==4.0.0-rc1) (0.9.1)\n",
            "Requirement already satisfied: h11<0.10,>=0.8 in /usr/local/lib/python3.11/dist-packages (from httpcore==0.9.*->httpx==0.13.3->googletrans==4.0.0-rc1) (0.9.0)\n",
            "Requirement already satisfied: h2==3.* in /usr/local/lib/python3.11/dist-packages (from httpcore==0.9.*->httpx==0.13.3->googletrans==4.0.0-rc1) (3.2.0)\n",
            "Requirement already satisfied: hyperframe<6,>=5.2.0 in /usr/local/lib/python3.11/dist-packages (from h2==3.*->httpcore==0.9.*->httpx==0.13.3->googletrans==4.0.0-rc1) (5.2.0)\n",
            "Requirement already satisfied: hpack<4,>=3.0 in /usr/local/lib/python3.11/dist-packages (from h2==3.*->httpcore==0.9.*->httpx==0.13.3->googletrans==4.0.0-rc1) (3.0.0)\n"
          ]
        }
      ]
    },
    {
      "cell_type": "code",
      "source": [
        "# Import the Translator class from the googletrans library\n",
        "from googletrans import Translator"
      ],
      "metadata": {
        "id": "MJbOFeWazeth"
      },
      "execution_count": 28,
      "outputs": []
    },
    {
      "cell_type": "code",
      "source": [
        "# Initialize the Translator object\n",
        "translator = Translator()\n",
        "text = \"This is my intern project. Now I am interning at Neovotech Limited\""
      ],
      "metadata": {
        "id": "5zFDqvXMxAba"
      },
      "execution_count": 29,
      "outputs": []
    },
    {
      "cell_type": "code",
      "source": [
        "# Translate the text from English (src=\"en\") to Bengali (dest=\"bn\")\n",
        "# The .text attribute extracts the translated text from the response.\n",
        "translated_text = translator.translate(text, src=\"en\", dest=\"bn\").text\n",
        "print(translated_text)"
      ],
      "metadata": {
        "colab": {
          "base_uri": "https://localhost:8080/"
        },
        "id": "vlrrkFlF0cNa",
        "outputId": "e2505ff0-ddc2-4c9b-9541-480dfbbfc0f4"
      },
      "execution_count": 30,
      "outputs": [
        {
          "output_type": "stream",
          "name": "stdout",
          "text": [
            "এটি আমার ইন্টার্ন প্রকল্প।এখন আমি নিওভোটেক লিমিটেডে ইন্টার্ন করছি\n"
          ]
        }
      ]
    }
  ]
}